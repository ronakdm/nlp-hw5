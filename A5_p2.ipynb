{
 "cells": [
  {
   "cell_type": "code",
   "execution_count": 1,
   "metadata": {
    "execution": {
     "iopub.execute_input": "2021-03-08T04:45:32.609891Z",
     "iopub.status.busy": "2021-03-08T04:45:32.609156Z",
     "iopub.status.idle": "2021-03-08T04:45:39.341684Z",
     "shell.execute_reply": "2021-03-08T04:45:39.342191Z"
    }
   },
   "outputs": [],
   "source": [
    "import matplotlib.pyplot as plt\n",
    "from bpe import load_data, train, encode\n",
    "import pickle"
   ]
  },
  {
   "cell_type": "code",
   "execution_count": 2,
   "metadata": {
    "execution": {
     "iopub.execute_input": "2021-03-08T04:45:39.347030Z",
     "iopub.status.busy": "2021-03-08T04:45:39.346457Z",
     "iopub.status.idle": "2021-03-08T06:17:32.231773Z",
     "shell.execute_reply": "2021-03-08T06:17:32.232295Z"
    }
   },
   "outputs": [],
   "source": [
    "words, vocab, vocab_list = load_data()\n",
    "\n",
    "try:\n",
    "    words, vocab_sizes, seq_lens, merges = train(words, vocab, vocab_list)\n",
    "    pickle.dump(vocab_sizes, open(\"vocab_sizes.p\", \"wb\"))\n",
    "    pickle.dump(seq_lens, open(\"seq_lens.p\", \"wb\"))\n",
    "    pickle.dump(merges, open(\"merges.p\", \"wb\"))\n",
    "except KeyboardInterrupt:\n",
    "    print(\"Graceful Exit\")"
   ]
  },
  {
   "cell_type": "code",
   "execution_count": 3,
   "metadata": {
    "execution": {
     "iopub.execute_input": "2021-03-08T06:17:32.237576Z",
     "iopub.status.busy": "2021-03-08T06:17:32.236955Z",
     "iopub.status.idle": "2021-03-08T06:17:32.843680Z",
     "shell.execute_reply": "2021-03-08T06:17:32.844219Z"
    }
   },
   "outputs": [
    {
     "data": {
      "image/png": "[encoded data removed]",
      "text/plain": [
       "<Figure size 432x288 with 1 Axes>"
      ]
     },
     "metadata": {
      "needs_background": "light"
     },
     "output_type": "display_data"
    }
   ],
   "source": [
    "vocab_sizes = pickle.load(open(\"vocab_sizes.p\", \"rb\"))\n",
    "seq_lens = pickle.load(open(\"seq_lens.p\", \"rb\"))\n",
    "\n",
    "plt.title(\"Iterations of BPE Algorithm\")\n",
    "plt.xlabel(\"Vocabulary Size\")\n",
    "plt.ylabel(\"Sequence Length\")\n",
    "plt.plot(vocab_sizes, seq_lens)\n",
    "plt.savefig(\"bpe_iters.pdf\")\n",
    "plt.show()"
   ]
  },
  {
   "cell_type": "code",
   "execution_count": 4,
   "metadata": {
    "execution": {
     "iopub.execute_input": "2021-03-08T06:17:32.848043Z",
     "iopub.status.busy": "2021-03-08T06:17:32.847455Z",
     "iopub.status.idle": "2021-03-08T06:17:32.878211Z",
     "shell.execute_reply": "2021-03-08T06:17:32.878673Z"
    }
   },
   "outputs": [
    {
     "name": "stdout",
     "output_type": "stream",
     "text": [
      "['go', 'b', 'bl', 'ed', 'y', 'g', 'ook<s>']\n"
     ]
    }
   ],
   "source": [
    "rare_word = \"gobbledygook\"\n",
    "\n",
    "merges = pickle.load(open(\"merges.p\", \"rb\"))\n",
    "print(encode(rare_word, merges))"
   ]
  },
  {
   "cell_type": "code",
   "execution_count": null,
   "metadata": {},
   "outputs": [],
   "source": []
  }
 ],
 "metadata": {
  "kernelspec": {
   "display_name": "Python 3",
   "language": "python",
   "name": "python3"
  },
  "language_info": {
   "codemirror_mode": {
    "name": "ipython",
    "version": 3
   },
   "file_extension": ".py",
   "mimetype": "text/x-python",
   "name": "python",
   "nbconvert_exporter": "python",
   "pygments_lexer": "ipython3",
   "version": "3.8.5"
  }
 },
 "nbformat": 4,
 "nbformat_minor": 4
}
